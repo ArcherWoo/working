{
 "cells": [
  {
   "cell_type": "markdown",
   "metadata": {},
   "source": [
    "# Week 6. Eigenvalues and eigenvectors, Leslie matrix"
   ]
  },
  {
   "cell_type": "markdown",
   "metadata": {},
   "source": [
    "#### A. Finding eigenvalues and eigenvectors using Julia"
   ]
  },
  {
   "cell_type": "code",
   "execution_count": 3,
   "metadata": {},
   "outputs": [
    {
     "data": {
      "text/plain": [
       "3×3 Array{Int64,2}:\n",
       " 1  0   3\n",
       " 1  0  -1\n",
       " 0  0   2"
      ]
     },
     "execution_count": 3,
     "metadata": {},
     "output_type": "execute_result"
    }
   ],
   "source": [
    "A=[1 0 3; 1 0 -1;0 0 2]"
   ]
  },
  {
   "cell_type": "code",
   "execution_count": 10,
   "metadata": {},
   "outputs": [
    {
     "data": {
      "text/plain": [
       "([0.0,1.0,2.0],\n",
       "[0.0 0.707107 0.904534; 1.0 0.707107 0.301511; 0.0 0.0 0.301511])"
      ]
     },
     "execution_count": 10,
     "metadata": {},
     "output_type": "execute_result"
    }
   ],
   "source": [
    "# eigenvalues of A, \n",
    "eig([1 0 3;1 0 -1;0 0 2])"
   ]
  },
  {
   "cell_type": "markdown",
   "metadata": {},
   "source": [
    "In the above, the 1st output line $[0.0,\\ 1.0,\\ 2.0]$ contains the eigenvalues of A: $\\lambda_1=0$, $\\lambda_2=1$ and $\\lambda_3=2$. \n",
    "The the 2nd output line $[0.0,\\ 0.707107,\\ 0.904534;\\ 1.0,\\ 0.707107,\\ 0.301511;\\ 0.0,\\ 0.0,\\ 0.301511]$ contains 3 column vectors $v_1$, $v_2$ and $v_3$: $[v_1,\\; v_2,\\; v_3]=$"
   ]
  },
  {
   "cell_type": "code",
   "execution_count": 11,
   "metadata": {},
   "outputs": [
    {
     "data": {
      "text/plain": [
       "3×3 Array{Float64,2}:\n",
       " 0.0  0.707107  0.904534\n",
       " 1.0  0.707107  0.301511\n",
       " 0.0  0.0       0.301511"
      ]
     },
     "execution_count": 11,
     "metadata": {},
     "output_type": "execute_result"
    }
   ],
   "source": [
    "[0.0 0.707107 0.904534; 1.0 0.707107 0.301511; 0.0 0.0 0.301511]"
   ]
  },
  {
   "cell_type": "markdown",
   "metadata": {},
   "source": [
    "So, $v_1$, $v_2$ and $v_3$ are the 1st, 2nd and 3rd column of the above matrix. "
   ]
  },
  {
   "cell_type": "markdown",
   "metadata": {},
   "source": [
    "#### B. One can find eigenvalues and eigenvectors separately"
   ]
  },
  {
   "cell_type": "code",
   "execution_count": 8,
   "metadata": {},
   "outputs": [
    {
     "data": {
      "text/plain": [
       "3-element Array{Float64,1}:\n",
       " 0.0\n",
       " 1.0\n",
       " 2.0"
      ]
     },
     "execution_count": 8,
     "metadata": {},
     "output_type": "execute_result"
    }
   ],
   "source": [
    "eigvals(A)"
   ]
  },
  {
   "cell_type": "code",
   "execution_count": 14,
   "metadata": {},
   "outputs": [
    {
     "data": {
      "text/plain": [
       "3×3 Array{Float64,2}:\n",
       " 0.0  0.707107  0.904534\n",
       " 1.0  0.707107  0.301511\n",
       " 0.0  0.0       0.301511"
      ]
     },
     "execution_count": 14,
     "metadata": {},
     "output_type": "execute_result"
    }
   ],
   "source": [
    "eigvecs(A)"
   ]
  },
  {
   "cell_type": "markdown",
   "metadata": {},
   "source": [
    "Though the eigenvalues and eigenvectors are obtained separately (and needs more input), the outputs are clearer than that from the \"eig()\" function."
   ]
  },
  {
   "cell_type": "markdown",
   "metadata": {},
   "source": [
    "#### C. Leslie matrix "
   ]
  },
  {
   "cell_type": "markdown",
   "metadata": {},
   "source": [
    "Determine whether the population will survive if the leslie matrix for a structured population model is the following matrix $B$."
   ]
  },
  {
   "cell_type": "code",
   "execution_count": 15,
   "metadata": {},
   "outputs": [
    {
     "data": {
      "text/plain": [
       "6×6 Array{Float64,2}:\n",
       " 0.0  0.3  0.7  1.2   3.0   2.0\n",
       " 0.6  0.0  0.0  0.0   0.0   0.0\n",
       " 0.0  0.7  0.0  0.0   0.0   0.0\n",
       " 0.0  0.0  0.8  0.0   0.0   0.0\n",
       " 0.0  0.0  0.0  0.85  0.0   0.0\n",
       " 0.0  0.0  0.0  0.0   0.55  0.0"
      ]
     },
     "execution_count": 15,
     "metadata": {},
     "output_type": "execute_result"
    }
   ],
   "source": [
    "B=[0 0.3 0.7 1.2 3 2;0.6 0 0 0 0 0;0 0.7 0 0 0 0;0 0 0.8 0 0 0;0 0 0 0.85 0 0;0 0 0 0 0.55 0]"
   ]
  },
  {
   "cell_type": "code",
   "execution_count": 17,
   "metadata": {},
   "outputs": [
    {
     "data": {
      "text/plain": [
       "6-element Array{Complex{Float64},1}:\n",
       "     1.182+0.0im     \n",
       "  0.268734+0.900901im\n",
       "  0.268734-0.900901im\n",
       " -0.647047+0.536928im\n",
       " -0.647047-0.536928im\n",
       " -0.425369+0.0im     "
      ]
     },
     "execution_count": 17,
     "metadata": {},
     "output_type": "execute_result"
    }
   ],
   "source": [
    "eigvals(B)"
   ]
  },
  {
   "cell_type": "markdown",
   "metadata": {},
   "source": [
    "There are two real eigenvalues (the 1st and last elenents in the above array). The largest of them is $\\lambda=1.182>1$. Thus, the population increases over time and hence will survive."
   ]
  }
 ],
 "metadata": {
  "kernelspec": {
   "display_name": "Julia 0.6.4",
   "language": "julia",
   "name": "julia-0.6"
  },
  "language_info": {
   "file_extension": ".jl",
   "mimetype": "application/julia",
   "name": "julia",
   "version": "0.6.4"
  }
 },
 "nbformat": 4,
 "nbformat_minor": 2
}
