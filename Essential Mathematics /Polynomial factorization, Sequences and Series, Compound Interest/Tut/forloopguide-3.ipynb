{
 "cells": [
  {
   "cell_type": "markdown",
   "metadata": {},
   "source": [
    "# A quick guide to for loops\n",
    "\n",
    "Computers are very good at doing dumb things very quickly. We use this all the time to make computers do all sorts of things for us.\n",
    "\n",
    "One of the fundamental things that happens behind the scenes in most places is something called a for loop. A for loop says \"here's a bunch of values for some variable n\". For every value, repeat these steps that I tell you to.\n",
    "\n",
    "Here's a toy example:"
   ]
  },
  {
   "cell_type": "code",
   "execution_count": 2,
   "metadata": {
    "collapsed": false
   },
   "outputs": [
    {
     "name": "stdout",
     "output_type": "stream",
     "text": [
      "1\n",
      "2\n",
      "3\n",
      "4\n",
      "5\n",
      "6\n",
      "7\n",
      "8\n",
      "9\n",
      "10\n"
     ]
    }
   ],
   "source": [
    "for i in 1:10 # For the numbers 1 to 10 (stored in the variable i as it runs)\n",
    "    println(i)  # Print i and move to a new line\n",
    "end"
   ]
  },
  {
   "cell_type": "markdown",
   "metadata": {},
   "source": [
    "Here, we just printed i over and over again. However, think back to the capital sigma notation from the lecture. It's just doing the same thing, repeating a basic step (add this value) over and over again. We can use a for loop to do this as well:"
   ]
  },
  {
   "cell_type": "code",
   "execution_count": 3,
   "metadata": {
    "collapsed": false
   },
   "outputs": [
    {
     "name": "stdout",
     "output_type": "stream",
     "text": [
      "55"
     ]
    }
   ],
   "source": [
    "s=0 # Start counting from zero\n",
    "\n",
    "for i in 1:10\n",
    "    s=s+i\n",
    "end\n",
    "\n",
    "print(s)"
   ]
  },
  {
   "cell_type": "markdown",
   "metadata": {},
   "source": [
    "If you compare this with your arithmetic progression notes, you should see the answer is the same. We can use for loops to do all sorts of things (all programs are built on loops and if statements, which is something we'll touch on next week)\n",
    "\n",
    "We can also nest these for loops inside each other. You won't be required to do this for this class (this is NOT a programming course), but being able to understand programming basics can be a very useful skill."
   ]
  },
  {
   "cell_type": "code",
   "execution_count": 10,
   "metadata": {
    "collapsed": false
   },
   "outputs": [
    {
     "name": "stdout",
     "output_type": "stream",
     "text": [
      "[0,0][0,1][0,2][0,3][0,4][0,5][0,6][0,7][0,8][0,9] finished with inner loop (j)\n",
      "[1,0][1,1][1,2][1,3][1,4][1,5][1,6][1,7][1,8][1,9] finished with inner loop (j)\n",
      "[2,0][2,1][2,2][2,3][2,4][2,5][2,6][2,7][2,8][2,9] finished with inner loop (j)\n",
      "[3,0][3,1][3,2][3,3][3,4][3,5][3,6][3,7][3,8][3,9] finished with inner loop (j)\n",
      "[4,0][4,1][4,2][4,3][4,4][4,5][4,6][4,7][4,8][4,9] finished with inner loop (j)\n",
      "[5,0][5,1][5,2][5,3][5,4][5,5][5,6][5,7][5,8][5,9] finished with inner loop (j)\n",
      "[6,0][6,1][6,2][6,3][6,4][6,5][6,6][6,7][6,8][6,9] finished with inner loop (j)\n",
      "[7,0][7,1][7,2][7,3][7,4][7,5][7,6][7,7][7,8][7,9] finished with inner loop (j)\n",
      "[8,0][8,1][8,2][8,3][8,4][8,5][8,6][8,7][8,8][8,9] finished with inner loop (j)\n",
      "[9,0][9,1][9,2][9,3][9,4][9,5][9,6][9,7][9,8][9,9] finished with inner loop (j)\n",
      "finished with outer loop (i)\n"
     ]
    }
   ],
   "source": [
    "for i in 0:9 # For numbers 0 to 9\n",
    "    for j in 0:9 # For numbers 0 to 9\n",
    "        print([i,j]) # Print the pair of these numbers\n",
    "    end\n",
    "    println(\" finished with inner loop (j)\")\n",
    "end\n",
    "println(\"finished with outer loop (i)\")"
   ]
  },
  {
   "cell_type": "code",
   "execution_count": 12,
   "metadata": {
    "collapsed": false
   },
   "outputs": [
    {
     "name": "stdout",
     "output_type": "stream",
     "text": [
      "[0,0] Done with inner loop (j), moving on\n",
      "[1,0][1,1] Done with inner loop (j), moving on\n",
      "[2,0][2,1][2,2] Done with inner loop (j), moving on\n",
      "[3,0][3,1][3,2][3,3] Done with inner loop (j), moving on\n",
      "[4,0][4,1][4,2][4,3][4,4] Done with inner loop (j), moving on\n",
      "[5,0][5,1][5,2][5,3][5,4][5,5] Done with inner loop (j), moving on\n",
      "[6,0][6,1][6,2][6,3][6,4][6,5][6,6] Done with inner loop (j), moving on\n",
      "[7,0][7,1][7,2][7,3][7,4][7,5][7,6][7,7] Done with inner loop (j), moving on\n",
      "[8,0][8,1][8,2][8,3][8,4][8,5][8,6][8,7][8,8] Done with inner loop (j), moving on\n",
      "[9,0][9,1][9,2][9,3][9,4][9,5][9,6][9,7][9,8][9,9] Done with inner loop (j), moving on\n"
     ]
    }
   ],
   "source": [
    "#We can also make an inner loop dependent on an outer loop! \n",
    "\n",
    "for i in 0:9 # For numbers 0 to 9\n",
    "    for j in 0:i # For numbers 0 to (wherever we're up to in the first loop)\n",
    "        print([i,j]) # Print the pair\n",
    "    end\n",
    "    println(\" Done with inner loop (j), moving on\")\n",
    "end"
   ]
  },
  {
   "cell_type": "markdown",
   "metadata": {},
   "source": [
    "===================================\n",
    "\n",
    "## Exercise\n",
    "\n",
    "\n",
    "See if you can use a for loop to print out every element in the array A (defined below) in a single line, row by row and then column by column.\n",
    "\n",
    "==================================="
   ]
  },
  {
   "cell_type": "code",
   "execution_count": 15,
   "metadata": {
    "collapsed": false
   },
   "outputs": [
    {
     "name": "stdout",
     "output_type": "stream",
     "text": [
      "123456789\n",
      "147258369"
     ]
    }
   ],
   "source": [
    "A=[1 2 3 ; 4 5 6 ; 7 8 9 ]\n",
    "\n",
    "#\n",
    "# Your answer here\n",
    "# Hint: you'll need two for loops and the print() command)\n",
    "# Remember, you can call a cell of an array with A[row,column]\n",
    "######################\n",
    "\n",
    "# Row by row\n",
    "for i in 1:3\n",
    "    for j in 1:3\n",
    "        print(A[i,j])\n",
    "    end\n",
    "end\n",
    "\n",
    "println()\n",
    "\n",
    "# Column by column\n",
    "for i in 1:3\n",
    "    for j in 1:3\n",
    "        print(A[j,i])\n",
    "    end\n",
    "end"
   ]
  }
 ],
 "metadata": {
  "kernelspec": {
   "display_name": "Julia 0.5.2",
   "language": "julia",
   "name": "julia-0.5"
  },
  "language_info": {
   "file_extension": ".jl",
   "mimetype": "application/julia",
   "name": "julia",
   "version": "0.5.2"
  }
 },
 "nbformat": 4,
 "nbformat_minor": 2
}
