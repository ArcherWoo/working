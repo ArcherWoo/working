{
 "cells": [
  {
   "cell_type": "markdown",
   "metadata": {},
   "source": [
    "# Finding Roots by Newton's Method in Julia"
   ]
  },
  {
   "cell_type": "markdown",
   "metadata": {},
   "source": [
    "$\\ $"
   ]
  },
  {
   "cell_type": "markdown",
   "metadata": {},
   "source": [
    "## Example: Using Newton's method find the root of the function $$f(x)=\\log{(x-2)}-3$$ "
   ]
  },
  {
   "cell_type": "markdown",
   "metadata": {},
   "source": [
    "## Solution:\n",
    "$$f'(x)=\\frac{1}{x-2}$$"
   ]
  },
  {
   "cell_type": "code",
   "execution_count": 1,
   "metadata": {
    "collapsed": false
   },
   "outputs": [
    {
     "data": {
      "text/plain": [
       "0.40119738166215546"
      ]
     },
     "execution_count": 1,
     "metadata": {},
     "output_type": "execute_result"
    }
   ],
   "source": [
    "# Initial guess\n",
    "x0=30;\n",
    "# Check:\n",
    "log(30)-3"
   ]
  },
  {
   "cell_type": "markdown",
   "metadata": {},
   "source": [
    "This is a good guess."
   ]
  },
  {
   "cell_type": "markdown",
   "metadata": {},
   "source": [
    "### Coding (using \"for\" loop) "
   ]
  },
  {
   "cell_type": "code",
   "execution_count": 2,
   "metadata": {
    "collapsed": false
   },
   "outputs": [
    {
     "name": "stdout",
     "output_type": "stream",
     "text": [
      "Root after 15 iterations is   22.08553692318767\n"
     ]
    }
   ],
   "source": [
    "function f(x)\n",
    "    log(x-2)-3\n",
    "end\n",
    "function dfdx(x)\n",
    "    1./(x-2)\n",
    "end \n",
    "x=x0\n",
    "for i in 1:15\n",
    "    x=x-f(x)/dfdx(x)\n",
    "end\n",
    "println(\"Root after 15 iterations is   \",x)"
   ]
  },
  {
   "cell_type": "markdown",
   "metadata": {},
   "source": [
    "#### True solution is \n",
    "\\begin{eqnarray*}\n",
    "              & &\\ \\ f(x)=0\\ \\Rightarrow\\ \\log(x-2)-3=0 \\ \\Rightarrow\\ \\log(x-2)=3\\\\\n",
    "  \\Rightarrow & &\\ \\ x-2=e^3 \\ \\Rightarrow\\ x=e^3+2\n",
    "\\end{eqnarray*}"
   ]
  },
  {
   "cell_type": "code",
   "execution_count": 3,
   "metadata": {
    "collapsed": false
   },
   "outputs": [
    {
     "name": "stdout",
     "output_type": "stream",
     "text": [
      "True root is  22.085536923187668\n"
     ]
    }
   ],
   "source": [
    "e^3+2\n",
    "println(\"True root is  \",e^3+2)"
   ]
  },
  {
   "cell_type": "markdown",
   "metadata": {},
   "source": [
    "## END "
   ]
  }
 ],
 "metadata": {
  "kernelspec": {
   "display_name": "Julia 0.6.0",
   "language": "julia",
   "name": "julia-0.6"
  },
  "language_info": {
   "file_extension": ".jl",
   "mimetype": "application/julia",
   "name": "julia",
   "version": "0.6.0"
  }
 },
 "nbformat": 4,
 "nbformat_minor": 2
}
