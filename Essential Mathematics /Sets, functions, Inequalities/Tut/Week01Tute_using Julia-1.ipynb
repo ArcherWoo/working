{
 "cells": [
  {
   "cell_type": "markdown",
   "metadata": {
    "collapsed": true
   },
   "source": [
    "# Part 1: Using Julia as a Glorified Calculator\n",
    "\n",
    "## Basics\n",
    "\n",
    "Julia can be used like a whole bunch of different programms to do basic arithmetic"
   ]
  },
  {
   "cell_type": "code",
   "execution_count": 2,
   "metadata": {
    "collapsed": false
   },
   "outputs": [
    {
     "data": {
      "text/plain": [
       "2"
      ]
     },
     "execution_count": 2,
     "metadata": {},
     "output_type": "execute_result"
    }
   ],
   "source": [
    "# Addition\n",
    "\n",
    "1+1"
   ]
  },
  {
   "cell_type": "code",
   "execution_count": 3,
   "metadata": {
    "collapsed": false
   },
   "outputs": [
    {
     "data": {
      "text/plain": [
       "3"
      ]
     },
     "execution_count": 3,
     "metadata": {},
     "output_type": "execute_result"
    }
   ],
   "source": [
    "# Subtraction\n",
    "\n",
    "4-1 "
   ]
  },
  {
   "cell_type": "code",
   "execution_count": 4,
   "metadata": {
    "collapsed": false
   },
   "outputs": [
    {
     "data": {
      "text/plain": [
       "15"
      ]
     },
     "execution_count": 4,
     "metadata": {},
     "output_type": "execute_result"
    }
   ],
   "source": [
    "# Multiplication\n",
    "\n",
    "5*3"
   ]
  },
  {
   "cell_type": "code",
   "execution_count": 5,
   "metadata": {
    "collapsed": false
   },
   "outputs": [
    {
     "data": {
      "text/plain": [
       "2.0"
      ]
     },
     "execution_count": 5,
     "metadata": {},
     "output_type": "execute_result"
    }
   ],
   "source": [
    "# Division\n",
    "6/3 "
   ]
  },
  {
   "cell_type": "code",
   "execution_count": 6,
   "metadata": {
    "collapsed": false
   },
   "outputs": [
    {
     "data": {
      "text/plain": [
       "1"
      ]
     },
     "execution_count": 6,
     "metadata": {},
     "output_type": "execute_result"
    }
   ],
   "source": [
    "# Modulo (remainder after division)\n",
    "7%3"
   ]
  },
  {
   "cell_type": "code",
   "execution_count": 7,
   "metadata": {
    "collapsed": false
   },
   "outputs": [
    {
     "data": {
      "text/plain": [
       "8"
      ]
     },
     "execution_count": 7,
     "metadata": {},
     "output_type": "execute_result"
    }
   ],
   "source": [
    "# Raising a number to a power\n",
    "\n",
    "2^3"
   ]
  },
  {
   "cell_type": "code",
   "execution_count": 8,
   "metadata": {
    "collapsed": false
   },
   "outputs": [
    {
     "data": {
      "text/plain": [
       "2.0"
      ]
     },
     "execution_count": 8,
     "metadata": {},
     "output_type": "execute_result"
    }
   ],
   "source": [
    "# Square Root\n",
    "\n",
    "sqrt(4)"
   ]
  },
  {
   "cell_type": "markdown",
   "metadata": {},
   "source": [
    "## Sets, Collections, Arrays and Ranges\n",
    "\n",
    "We can also do calculations on lots of numbers at once. The first of these are arrays.\n",
    "\n",
    "Arrays are essentially just collections of numbers in a table. We'll use these a lot later on, when we talk about matrices and vectors.\n",
    "\n",
    "To write an array, simply write a list of numbers separated by spaces or semicolons (;), surrounded by square brackets ([ ])"
   ]
  },
  {
   "cell_type": "code",
   "execution_count": 47,
   "metadata": {
    "collapsed": false
   },
   "outputs": [
    {
     "data": {
      "text/plain": [
       "5-element Array{Int64,1}:\n",
       " 1\n",
       " 2\n",
       " 3\n",
       " 4\n",
       " 5"
      ]
     },
     "execution_count": 47,
     "metadata": {},
     "output_type": "execute_result"
    }
   ],
   "source": [
    "# If you use semicolons, you get a result in a single column\n",
    "\n",
    "# We'll introduce variables (this x= business) in a minute\n",
    "x = [1;2;3;4;5]"
   ]
  },
  {
   "cell_type": "code",
   "execution_count": 8,
   "metadata": {
    "collapsed": false
   },
   "outputs": [
    {
     "data": {
      "text/plain": [
       "1×5 Array{Int64,2}:\n",
       " 1  2  3  4  5"
      ]
     },
     "execution_count": 8,
     "metadata": {},
     "output_type": "execute_result"
    }
   ],
   "source": [
    "# If you use spaces, you get results in a single row\n",
    "y=[1 2 3 4 5]"
   ]
  },
  {
   "cell_type": "code",
   "execution_count": 9,
   "metadata": {
    "collapsed": false
   },
   "outputs": [
    {
     "data": {
      "text/plain": [
       "2×3 Array{Int64,2}:\n",
       " 1  2  3\n",
       " 4  5  6"
      ]
     },
     "execution_count": 9,
     "metadata": {},
     "output_type": "execute_result"
    }
   ],
   "source": [
    "# We can use spaces and semicolons to make tables of numbers:\n",
    "\n",
    "z = [1 2 3 ; 4 5 6]"
   ]
  },
  {
   "cell_type": "markdown",
   "metadata": {},
   "source": [
    "If we want to get a particular cell of an array, we can call it using x[row,column] like so:"
   ]
  },
  {
   "cell_type": "code",
   "execution_count": 10,
   "metadata": {
    "collapsed": false
   },
   "outputs": [
    {
     "data": {
      "text/plain": [
       "6"
      ]
     },
     "execution_count": 10,
     "metadata": {},
     "output_type": "execute_result"
    }
   ],
   "source": [
    "z[2,3]"
   ]
  },
  {
   "cell_type": "markdown",
   "metadata": {},
   "source": [
    "On top of that, we can also change values stored in particular cells:"
   ]
  },
  {
   "cell_type": "code",
   "execution_count": 12,
   "metadata": {
    "collapsed": false
   },
   "outputs": [
    {
     "data": {
      "text/plain": [
       "2×3 Array{Int64,2}:\n",
       " 10  2  3\n",
       "  4  5  6"
      ]
     },
     "execution_count": 12,
     "metadata": {},
     "output_type": "execute_result"
    }
   ],
   "source": [
    "z[1,1]=10\n",
    "z"
   ]
  },
  {
   "cell_type": "markdown",
   "metadata": {},
   "source": [
    "We can use arrays to perform lots of calculations at once:"
   ]
  },
  {
   "cell_type": "code",
   "execution_count": 13,
   "metadata": {
    "collapsed": false
   },
   "outputs": [
    {
     "data": {
      "text/plain": [
       "5-element Array{Int64,1}:\n",
       "  2\n",
       "  4\n",
       "  6\n",
       "  8\n",
       " 10"
      ]
     },
     "execution_count": 13,
     "metadata": {},
     "output_type": "execute_result"
    }
   ],
   "source": [
    "x*2"
   ]
  },
  {
   "cell_type": "code",
   "execution_count": 14,
   "metadata": {
    "collapsed": false
   },
   "outputs": [
    {
     "data": {
      "text/plain": [
       "1×5 Array{Int64,2}:\n",
       " 2  3  4  5  6"
      ]
     },
     "execution_count": 14,
     "metadata": {},
     "output_type": "execute_result"
    }
   ],
   "source": [
    "y+1"
   ]
  },
  {
   "cell_type": "code",
   "execution_count": 16,
   "metadata": {
    "collapsed": false
   },
   "outputs": [
    {
     "data": {
      "text/plain": [
       "2×3 Array{Float64,2}:\n",
       " 3.33333  0.666667  1.0\n",
       " 1.33333  1.66667   2.0"
      ]
     },
     "execution_count": 16,
     "metadata": {},
     "output_type": "execute_result"
    }
   ],
   "source": [
    "z/3"
   ]
  },
  {
   "cell_type": "code",
   "execution_count": 18,
   "metadata": {
    "collapsed": false
   },
   "outputs": [
    {
     "data": {
      "text/plain": [
       "5-element Array{Int64,1}:\n",
       " 5\n",
       " 8\n",
       " 5\n",
       " 8\n",
       " 7"
      ]
     },
     "execution_count": 18,
     "metadata": {},
     "output_type": "execute_result"
    }
   ],
   "source": [
    "# We can also add elements of arrays together, cell by cell\n",
    "\n",
    "a=[4;6;2;4;2]\n",
    "\n",
    "x+a"
   ]
  },
  {
   "cell_type": "markdown",
   "metadata": {},
   "source": [
    "However, there's some restrictions on this:\n",
    "\n",
    "1. All arrays need have to have a matching number of dimensions\n",
    "2. If you want to use multiplication, division, or exponents ( *, / or ^ ), you need to place a full stop (.) in front of it first\n",
    "\n",
    "This is because these operations have special meanings for matrices. By placing the . symbol, you tell Julia to treat each cell separately"
   ]
  },
  {
   "cell_type": "code",
   "execution_count": 20,
   "metadata": {
    "collapsed": false
   },
   "outputs": [
    {
     "data": {
      "text/plain": [
       "2×3 Array{Int64,2}:\n",
       " 100   4   9\n",
       "  16  25  36"
      ]
     },
     "execution_count": 20,
     "metadata": {},
     "output_type": "execute_result"
    }
   ],
   "source": [
    "z.^2"
   ]
  },
  {
   "cell_type": "markdown",
   "metadata": {},
   "source": [
    "If we want to specify a series of equally spaced numbers between two points, we can use a range instead.\n",
    "\n",
    "Ranges use the following syntax: from:step:to. For example:\n",
    "\n",
    "(ignore the collect() statement here, all it does is convert the range into an array so you can see it)"
   ]
  },
  {
   "cell_type": "code",
   "execution_count": 21,
   "metadata": {
    "collapsed": false
   },
   "outputs": [
    {
     "data": {
      "text/plain": [
       "10-element Array{Int64,1}:\n",
       "  1\n",
       "  2\n",
       "  3\n",
       "  4\n",
       "  5\n",
       "  6\n",
       "  7\n",
       "  8\n",
       "  9\n",
       " 10"
      ]
     },
     "execution_count": 21,
     "metadata": {},
     "output_type": "execute_result"
    }
   ],
   "source": [
    "collect(1:1:10) # Will produce whole numbers between 1 and 10"
   ]
  },
  {
   "cell_type": "code",
   "execution_count": 22,
   "metadata": {
    "collapsed": false
   },
   "outputs": [
    {
     "data": {
      "text/plain": [
       "5-element Array{Int64,1}:\n",
       " 1\n",
       " 3\n",
       " 5\n",
       " 7\n",
       " 9"
      ]
     },
     "execution_count": 22,
     "metadata": {},
     "output_type": "execute_result"
    }
   ],
   "source": [
    "collect(1:2:10) # will do the same, but in steps of 2"
   ]
  },
  {
   "cell_type": "markdown",
   "metadata": {},
   "source": [
    "If you don't specify the step size, the default is 1.\n",
    "\n",
    "We can use this to do calculations on lots of numbers at once, for example, squaring each whole number between 1 and 10"
   ]
  },
  {
   "cell_type": "code",
   "execution_count": 24,
   "metadata": {
    "collapsed": false
   },
   "outputs": [
    {
     "data": {
      "text/plain": [
       "10-element Array{Int64,1}:\n",
       "   1\n",
       "   4\n",
       "   9\n",
       "  16\n",
       "  25\n",
       "  36\n",
       "  49\n",
       "  64\n",
       "  81\n",
       " 100"
      ]
     },
     "execution_count": 24,
     "metadata": {},
     "output_type": "execute_result"
    }
   ],
   "source": [
    "(1:10).^2 # Note the . before the ^ symbol -- the same rules apply here"
   ]
  },
  {
   "cell_type": "markdown",
   "metadata": {},
   "source": [
    "Finally, we have sets. these operate as you'd expect. To write a set, separate elements using commas (,), and enclose them in round brackets/parentheses ( () )"
   ]
  },
  {
   "cell_type": "code",
   "execution_count": 32,
   "metadata": {
    "collapsed": false
   },
   "outputs": [
    {
     "data": {
      "text/plain": [
       "(1,2,3,4)"
      ]
     },
     "execution_count": 32,
     "metadata": {},
     "output_type": "execute_result"
    }
   ],
   "source": [
    "A=(1,2,3,4)"
   ]
  },
  {
   "cell_type": "code",
   "execution_count": 37,
   "metadata": {
    "collapsed": false
   },
   "outputs": [
    {
     "data": {
      "text/plain": [
       "(4,\"dog\",sqrt)"
      ]
     },
     "execution_count": 37,
     "metadata": {},
     "output_type": "execute_result"
    }
   ],
   "source": [
    "B=(4,\"dog\",sqrt) # Sets can store pretty much anything"
   ]
  },
  {
   "cell_type": "markdown",
   "metadata": {},
   "source": [
    "To access an element of a set, do it in the same way as you would an array, with [] brackets"
   ]
  },
  {
   "cell_type": "code",
   "execution_count": 40,
   "metadata": {
    "collapsed": false
   },
   "outputs": [
    {
     "data": {
      "text/plain": [
       "1"
      ]
     },
     "execution_count": 40,
     "metadata": {},
     "output_type": "execute_result"
    }
   ],
   "source": [
    "A[1]"
   ]
  },
  {
   "cell_type": "code",
   "execution_count": 41,
   "metadata": {
    "collapsed": false
   },
   "outputs": [
    {
     "data": {
      "text/plain": [
       "\"dog\""
      ]
     },
     "execution_count": 41,
     "metadata": {},
     "output_type": "execute_result"
    }
   ],
   "source": [
    "# For extra fun, run B[3](100) and see if you can work out what's happening\n",
    "\n",
    "B[2]"
   ]
  },
  {
   "cell_type": "markdown",
   "metadata": {},
   "source": [
    "We can do standard operations using sets:"
   ]
  },
  {
   "cell_type": "code",
   "execution_count": 34,
   "metadata": {
    "collapsed": false
   },
   "outputs": [
    {
     "data": {
      "text/plain": [
       "6-element Array{Any,1}:\n",
       " 1     \n",
       " 2     \n",
       " 3     \n",
       " 4     \n",
       "  \"dog\"\n",
       "  sqrt "
      ]
     },
     "execution_count": 34,
     "metadata": {},
     "output_type": "execute_result"
    }
   ],
   "source": [
    "union(A,B)"
   ]
  },
  {
   "cell_type": "code",
   "execution_count": 35,
   "metadata": {
    "collapsed": false
   },
   "outputs": [
    {
     "data": {
      "text/plain": [
       "1-element Array{Any,1}:\n",
       " 4"
      ]
     },
     "execution_count": 35,
     "metadata": {},
     "output_type": "execute_result"
    }
   ],
   "source": [
    "intersect(A,B)"
   ]
  },
  {
   "cell_type": "code",
   "execution_count": 36,
   "metadata": {
    "collapsed": false
   },
   "outputs": [
    {
     "data": {
      "text/plain": [
       "3-element Array{Any,1}:\n",
       " 1\n",
       " 2\n",
       " 3"
      ]
     },
     "execution_count": 36,
     "metadata": {},
     "output_type": "execute_result"
    }
   ],
   "source": [
    "setdiff(A,B)"
   ]
  },
  {
   "cell_type": "markdown",
   "metadata": {},
   "source": [
    "## Some Notes on Reading Julia Output\n",
    "\n",
    "By default, Julia will only produce output from the the last line of code in a block.\n",
    "\n",
    "We'll touch on this later when we talk about useful functions"
   ]
  },
  {
   "cell_type": "code",
   "execution_count": 42,
   "metadata": {
    "collapsed": false
   },
   "outputs": [
    {
     "data": {
      "text/plain": [
       "3"
      ]
     },
     "execution_count": 42,
     "metadata": {},
     "output_type": "execute_result"
    }
   ],
   "source": [
    "1+1 # Won't appear\n",
    "\n",
    "1+2 # Will appear"
   ]
  },
  {
   "cell_type": "markdown",
   "metadata": {},
   "source": [
    "Code that is currently running will have a set of characters [*] next to it. \n",
    "\n",
    "If you run your code and nothing happens, look to the left.\n",
    "If you see this to the left of your code:\n",
    "\n",
    "In[*]\n",
    "\n",
    "Then your code is still running be patient!\n",
    "\n",
    "\n",
    "This code block will run and do nothing for 5 seconds.\n",
    "Run it, and check out the effect to the left.\n"
   ]
  },
  {
   "cell_type": "code",
   "execution_count": 11,
   "metadata": {
    "collapsed": true
   },
   "outputs": [],
   "source": [
    "sleep(5)"
   ]
  },
  {
   "cell_type": "markdown",
   "metadata": {},
   "source": [
    "==========================================\n",
    "### EXERCISE\n",
    "\n",
    "Calculate the square root of every number in the list 0, 0.5, 1, 1.5, ..., 5. How many of these are integers?\n",
    "\n",
    "=========================================="
   ]
  },
  {
   "cell_type": "code",
   "execution_count": 81,
   "metadata": {
    "collapsed": false
   },
   "outputs": [],
   "source": [
    "#\n",
    "# PLACE YOUR SOLUTION HERE\n",
    "######################################\n",
    "\n",
    "\n",
    "\n"
   ]
  },
  {
   "cell_type": "markdown",
   "metadata": {},
   "source": [
    "# Part 2: Variables\n",
    "\n",
    "We can store values in things called \"variables\". Variables essentially just tell the computer to save something so we can use it later.\n",
    "\n",
    "This makes life significantly easier for a few reasons:\n",
    "\n",
    "* Your code is SO much easier to read\n",
    "* Your code can be easily changed if needed.\n",
    "* If things don't work, debugging is much, much easier\n",
    "\n",
    "Run the block below\n"
   ]
  },
  {
   "cell_type": "code",
   "execution_count": 12,
   "metadata": {
    "collapsed": false
   },
   "outputs": [
    {
     "data": {
      "text/plain": [
       "1"
      ]
     },
     "execution_count": 12,
     "metadata": {},
     "output_type": "execute_result"
    }
   ],
   "source": [
    "x=1"
   ]
  },
  {
   "cell_type": "markdown",
   "metadata": {},
   "source": [
    "Now run this block several times. What happens to the value stored in x?"
   ]
  },
  {
   "cell_type": "code",
   "execution_count": 16,
   "metadata": {
    "collapsed": false
   },
   "outputs": [
    {
     "data": {
      "text/plain": [
       "5"
      ]
     },
     "execution_count": 16,
     "metadata": {},
     "output_type": "execute_result"
    }
   ],
   "source": [
    "x=x+1"
   ]
  },
  {
   "cell_type": "markdown",
   "metadata": {},
   "source": [
    "Here's a practical example of why this is useful.\n",
    "This is a simple compound interest calculator:\n",
    "\n",
    "You should see where this comes from later on in this course,\n",
    "but if you wanted to read ahead you can find out about it here:\n",
    "\n",
    "https://www.mathsisfun.com/money/compound-interest.html\n"
   ]
  },
  {
   "cell_type": "code",
   "execution_count": 18,
   "metadata": {
    "collapsed": false
   },
   "outputs": [
    {
     "data": {
      "text/plain": [
       "164.36194634870122"
      ]
     },
     "execution_count": 18,
     "metadata": {},
     "output_type": "execute_result"
    }
   ],
   "source": [
    "# Put in whatever values you want here:\n",
    "\n",
    "Present_Value = 100    # How much are you investing?\n",
    "Interest_Rate = 0.05   # What's the interest rate? (5% interest would be 0.05)\n",
    "Compund_Frequency = 4  # How often per year does your investment grow?\n",
    "                       # (If interest is paid quaterly, 4)\n",
    "Time = 10              # How many years are you investing for?\n",
    "\n",
    "\n",
    "# We'll calculate the value of an investment based on the values above:\n",
    "\n",
    "Present_Value*(1+Interest_Rate/Compund_Frequency)^(Compund_Frequency*Time)"
   ]
  },
  {
   "cell_type": "markdown",
   "metadata": {},
   "source": [
    "Now imagine doing the same without using variables:\n"
   ]
  },
  {
   "cell_type": "code",
   "execution_count": 19,
   "metadata": {
    "collapsed": false
   },
   "outputs": [
    {
     "data": {
      "text/plain": [
       "164.36194634870122"
      ]
     },
     "execution_count": 19,
     "metadata": {},
     "output_type": "execute_result"
    }
   ],
   "source": [
    "# I just wrote this, and already have no idea what this is doing.\n",
    "\n",
    "100*(1+0.05/4)^(4*10)"
   ]
  },
  {
   "cell_type": "markdown",
   "metadata": {},
   "source": [
    "### Good practice for naming variables:\n",
    "\n",
    "How do you pick what to name your variables? They should make your code easy to understand, and you should be able to tell what each variable is meant for just from their names. The compound interest calculator from above is a good example of this.\n",
    "\n",
    "While it is easy to be lazy and use short variable names like a=10, if you have a large piece of code you have to debug, or revisit in six months, you will regret all of your life choices. I learned this the hard way. Be smart, unlike your tutor.\n",
    "\n",
    "There are several styles for naming variables. None of them are compulsory, so use whatever makes you feel most comfortable. Here's a few examples for coding \"my new variable\" in different styles:\n"
   ]
  },
  {
   "cell_type": "code",
   "execution_count": 23,
   "metadata": {
    "collapsed": false
   },
   "outputs": [
    {
     "data": {
      "text/plain": [
       "5"
      ]
     },
     "execution_count": 23,
     "metadata": {},
     "output_type": "execute_result"
    }
   ],
   "source": [
    "MyNewVariable=1     # This is called Upper Camel Case\n",
    "myNewVariable=2     # This is called Lower Camel Case\n",
    "\n",
    "\n",
    "my_new_variable=3   # This is called snake_case\n",
    "My_New_Variable=4   # Here's a variant on the style\n",
    "MY_NEW_VARIABE=5   # Here's another variant on the style"
   ]
  },
  {
   "cell_type": "markdown",
   "metadata": {},
   "source": [
    "You can mix and match these styles for different things.\n",
    "\n",
    "For example, you can have all of your variables use lowerCamelCase, And have your functions (we'll cover them soon) be UpperCamelCase. That said, if this were this a propper programming course, this would be a bad idea. In general, different languages have different styles of writing code (called Coding Conventions), which are generally a good idea to follow, as they make your code easier for other people to read.\n",
    "\n",
    "However, this is completely outside of this course, so don't worry too much about it. The important thing is that your code is readable and consistent. Use whatever rules or style you want, but make sure that you are consistent with it\n",
    "\n",
    "### Warning!\n",
    "\n",
    "Julia will allow you to name a variable basically anything you can think of, even if it's already used for other things. Here's an example of how you can run into problems. It will issue a warning, but if you're not paying attention you could run into issues.\n",
    "\n",
    "There's no easy way to safeguard against this, other than just to be careful and pay attention to warning messages.\n",
    "\n",
    "Here's an example of what I'm talking about\n"
   ]
  },
  {
   "cell_type": "code",
   "execution_count": 24,
   "metadata": {
    "collapsed": false
   },
   "outputs": [
    {
     "data": {
      "text/plain": [
       "3"
      ]
     },
     "execution_count": 24,
     "metadata": {},
     "output_type": "execute_result"
    }
   ],
   "source": [
    "# sum() is a function that adds things together.\n",
    "# We'll cover functions in more detail soon\n",
    "\n",
    "# This will add 1 and 2 together and return 3\n",
    "\n",
    "sum([1,2])"
   ]
  },
  {
   "cell_type": "code",
   "execution_count": 27,
   "metadata": {
    "collapsed": false
   },
   "outputs": [
    {
     "data": {
      "text/plain": [
       "3"
      ]
     },
     "execution_count": 27,
     "metadata": {},
     "output_type": "execute_result"
    }
   ],
   "source": [
    "# Don't pay too much attention to this block. Essentially all I'm doing is\n",
    "# storing the sum command in a variable for later\n",
    "\n",
    "# For those that are curious, though:\n",
    "\n",
    "# \"x\" is a terrible variable name,\n",
    "# but I can get away with it because\n",
    "# I'm only using it across a few lines of code\n",
    "\n",
    "x=sum\n",
    "\n",
    "# Note that we can now use \"x\" instead of \"sum\"\n",
    "\n",
    "x([1,2])"
   ]
  },
  {
   "cell_type": "code",
   "execution_count": 28,
   "metadata": {
    "collapsed": false
   },
   "outputs": [
    {
     "name": "stderr",
     "output_type": "stream",
     "text": [
      "WARNING: imported binding for sum overwritten in module Main\n"
     ]
    },
    {
     "ename": "LoadError",
     "evalue": "MethodError: objects of type Int64 are not callable",
     "output_type": "error",
     "traceback": [
      "MethodError: objects of type Int64 are not callable",
      ""
     ]
    }
   ],
   "source": [
    "# Now, let's pretend we wanted to save a value to a variable sum.\n",
    "\n",
    "# sum would be a perfectly good variable name, as it is self-explanatory.\n",
    "# you could assign it to be the sum of a couple of other variables, for example.\n",
    "\n",
    "# However, using sum as a variable will overwrite the function.\n",
    "\n",
    "# This line will crash, with a scary looking error message.\n",
    "\n",
    "# We'll talk about how to interpret these error messages later on.\n",
    "\n",
    "sum=0\n",
    "sum([1,2])"
   ]
  },
  {
   "cell_type": "code",
   "execution_count": 29,
   "metadata": {
    "collapsed": false
   },
   "outputs": [
    {
     "data": {
      "text/plain": [
       "3"
      ]
     },
     "execution_count": 29,
     "metadata": {},
     "output_type": "execute_result"
    }
   ],
   "source": [
    "# Now, let's restore sum to what it's meant to be.\n",
    "# We stored the function in a variable \"x\" before.\n",
    "\n",
    "# (You shouldn't need to ever do this, this is just to keep this document clean)\n",
    "\n",
    "sum=x\n",
    "sum([1,2])"
   ]
  },
  {
   "cell_type": "markdown",
   "metadata": {},
   "source": [
    "## Operations on variables\n",
    "\n",
    "A very common thing you'll want to do is to modify the value in some basic way. For example, adding to it, doubling it, halving it, etc.\n",
    "\n",
    "Julia gives us a nice shorthand for doing this:"
   ]
  },
  {
   "cell_type": "code",
   "execution_count": null,
   "metadata": {
    "collapsed": true
   },
   "outputs": [],
   "source": [
    "# Let's say we wanted to add 1 to the current value of a variable.\n",
    "\n",
    "# The easiest way to do it is just like this:\n",
    "\n",
    "x=1\n",
    "x=x+1\n",
    "x"
   ]
  },
  {
   "cell_type": "code",
   "execution_count": null,
   "metadata": {
    "collapsed": true
   },
   "outputs": [],
   "source": [
    "# We can shorthand this with the += operation:\n",
    "\n",
    "x=1\n",
    "\n",
    "x+=1 # Add 1 to the current value\n",
    "\n",
    "x\n",
    "\n"
   ]
  },
  {
   "cell_type": "code",
   "execution_count": null,
   "metadata": {
    "collapsed": true
   },
   "outputs": [],
   "source": [
    "# Other examples include subtraction:\n",
    "\n",
    "x=2\n",
    "x-=1 # Subtract 1 from the current value\n",
    "x\n"
   ]
  },
  {
   "cell_type": "code",
   "execution_count": null,
   "metadata": {
    "collapsed": true
   },
   "outputs": [],
   "source": [
    "# multiplication:\n",
    "\n",
    "x=2\n",
    "x*=3 # Multiply the current value by 3\n",
    "x"
   ]
  },
  {
   "cell_type": "code",
   "execution_count": null,
   "metadata": {
    "collapsed": true
   },
   "outputs": [],
   "source": [
    "# and division:\n",
    "\n",
    "x=6\n",
    "x/=2 # Halve the current value\n",
    "x"
   ]
  },
  {
   "cell_type": "markdown",
   "metadata": {},
   "source": [
    "## Implicit multiplication\n",
    "\n",
    "In Julia, you don't have to include the multiplication operation when multiplying a variable by some constant number.Julia will interpret \"2x\" the same way you would were you to see it in an algebra problem. \n",
    "\n",
    "(You can't multiply two variables together like this, thoguh. \"ax\" would be interpreted as a single variable \"ax\", not \"a\\*x\"). \n",
    "\n",
    "Remember, you don't have to use features like this; if you feel more comfortable putting the multiplication sign in, then you're more than allowed to (I prefer not to use this feature because in my experience it makes debugging harder). What's important is that you are consistent.\n",
    "\n",
    "You can see a demonstration of it here:"
   ]
  },
  {
   "cell_type": "code",
   "execution_count": 30,
   "metadata": {
    "collapsed": false
   },
   "outputs": [
    {
     "data": {
      "text/plain": [
       "5"
      ]
     },
     "execution_count": 30,
     "metadata": {},
     "output_type": "execute_result"
    }
   ],
   "source": [
    "x=3\n",
    "\n",
    "2*x-1"
   ]
  },
  {
   "cell_type": "code",
   "execution_count": 31,
   "metadata": {
    "collapsed": false
   },
   "outputs": [
    {
     "data": {
      "text/plain": [
       "5"
      ]
     },
     "execution_count": 31,
     "metadata": {},
     "output_type": "execute_result"
    }
   ],
   "source": [
    "x=3\n",
    "\n",
    "2x-1"
   ]
  },
  {
   "cell_type": "markdown",
   "metadata": {},
   "source": [
    "## Equalities and inequalities\n",
    "\n",
    "A useful thing to be able to do is to compare two numbers. Here's the operations for them:\n",
    "\n",
    "== -- equals\n",
    "\n",
    "!= -- does not equal\n",
    "\n",
    "<  -- less than\n",
    "\n",
    "\\>  -- greater than\n",
    "\n",
    "<= -- less than or equal to\n",
    "\n",
    "\\>= -- greater than or equal to\n",
    "\n",
    "\n",
    "Here's some examples:"
   ]
  },
  {
   "cell_type": "code",
   "execution_count": 2,
   "metadata": {
    "collapsed": false
   },
   "outputs": [
    {
     "data": {
      "text/plain": [
       "true"
      ]
     },
     "execution_count": 2,
     "metadata": {},
     "output_type": "execute_result"
    }
   ],
   "source": [
    "1+1==2"
   ]
  },
  {
   "cell_type": "code",
   "execution_count": 4,
   "metadata": {
    "collapsed": false
   },
   "outputs": [
    {
     "data": {
      "text/plain": [
       "false"
      ]
     },
     "execution_count": 4,
     "metadata": {},
     "output_type": "execute_result"
    }
   ],
   "source": [
    "1+2>4"
   ]
  },
  {
   "cell_type": "code",
   "execution_count": 7,
   "metadata": {
    "collapsed": false
   },
   "outputs": [
    {
     "data": {
      "text/plain": [
       "true"
      ]
     },
     "execution_count": 7,
     "metadata": {},
     "output_type": "execute_result"
    }
   ],
   "source": [
    "1!=2"
   ]
  },
  {
   "cell_type": "markdown",
   "metadata": {},
   "source": [
    "Similar to before, we can run tests on multiple numbers at once by using the . character"
   ]
  },
  {
   "cell_type": "code",
   "execution_count": 50,
   "metadata": {
    "collapsed": false
   },
   "outputs": [
    {
     "data": {
      "text/plain": [
       "10-element BitArray{1}:\n",
       " false\n",
       "  true\n",
       "  true\n",
       "  true\n",
       "  true\n",
       "  true\n",
       "  true\n",
       "  true\n",
       "  true\n",
       "  true"
      ]
     },
     "execution_count": 50,
     "metadata": {},
     "output_type": "execute_result"
    }
   ],
   "source": [
    "1.<(1:10)"
   ]
  },
  {
   "cell_type": "markdown",
   "metadata": {},
   "source": [
    "### EXERCISE\n",
    "\n",
    "The Triangle Inequality is an increadibly important result in mathematics. A lot of the techniques that you will learn about in other courses (e.g. k-means clustering and k-nearest neighbours) would not work without this result. A very simple version of it says that if you have a right-angle triangle, the hypotenuse will always be smaller than the sum of the other two sides.\n",
    "\n",
    "Test this numerically by fixing one side length, and testing multiple lengths for the other side\n",
    "\n",
    "Hint: use Pythagoras' theorem to get the hypotenuse in terms of the other sides\n",
    "https://en.wikipedia.org/wiki/Pythagorean_theorem"
   ]
  },
  {
   "cell_type": "code",
   "execution_count": 16,
   "metadata": {
    "collapsed": false
   },
   "outputs": [
    {
     "data": {
      "text/plain": [
       "91-element BitArray{1}:\n",
       " true\n",
       " true\n",
       " true\n",
       " true\n",
       " true\n",
       " true\n",
       " true\n",
       " true\n",
       " true\n",
       " true\n",
       " true\n",
       " true\n",
       " true\n",
       "    ⋮\n",
       " true\n",
       " true\n",
       " true\n",
       " true\n",
       " true\n",
       " true\n",
       " true\n",
       " true\n",
       " true\n",
       " true\n",
       " true\n",
       " true"
      ]
     },
     "execution_count": 16,
     "metadata": {},
     "output_type": "execute_result"
    }
   ],
   "source": [
    "#\n",
    "# Your code here\n",
    "#\n",
    "################################"
   ]
  },
  {
   "cell_type": "markdown",
   "metadata": {},
   "source": [
    "# Functions\n",
    "\n",
    "Functions essentially allow us to package up chunks of our code for use later on.\n",
    "\n",
    "If we wanted to hide bits of code that we can reuse later on, we can declare a function.\n",
    "\n",
    "A function is essentially a piece of code that takes something (an input, or parameter), and returns something else. Julia has lots of these, and we'll go over some of them later.\n",
    "\n",
    "Functions are increadibly useful for a bunch of reasons\n",
    "\n",
    "1. Your code becomes much more readable (provided your functions are named sensibly)\n",
    "2. We're lazy, and this means we don't have to use the same chunks of code over and over again.\n",
    "3. It allows for easy tweaking of code. If you're doing the same thing in a bunch of different places, using a function means you only need to change the function in one place. This also makes debugging easier (as you don't have to look for mistakes in five different copies of the same code)\n",
    "\n",
    "Generally speaking, if you find yourself using the same code over and over again, it's probably a good idea to put it in a function. It will help cut down the ammount of code you have to write, as well as make your code look a little more sensible\n",
    "\n",
    "We can create functions in a couple of ways. Here's an example using the compound interest thing from before"
   ]
  },
  {
   "cell_type": "code",
   "execution_count": 18,
   "metadata": {
    "collapsed": false
   },
   "outputs": [
    {
     "data": {
      "text/plain": [
       "164.36194634870122"
      ]
     },
     "execution_count": 18,
     "metadata": {},
     "output_type": "execute_result"
    }
   ],
   "source": [
    "# The first way to define functions is with a simple one-line command:\n",
    "\n",
    "CompoundInterestCalculator(P,r,n,t) = P*(1+r/n)^(n*t)\n",
    "\n",
    "# This is an awful lot like saying f(x)=2x+3\n",
    "\n",
    "# Note that I've replaced the variable names with something shorter\n",
    "# so I can do this in one line, but the names are still meaningful\n",
    "# (P for Present value, r for interest rate, n for number of\n",
    "# compounds per year, t for time).\n",
    "\n",
    "# Let's test out our function:\n",
    "\n",
    "presentValue=100\n",
    "interestRate=0.05\n",
    "compoundFrequency=4\n",
    "timePassed=10\n",
    "\n",
    "CompoundInterestCalculator(presentValue,interestRate,compoundFrequency,timePassed)"
   ]
  },
  {
   "cell_type": "code",
   "execution_count": 19,
   "metadata": {
    "collapsed": false
   },
   "outputs": [
    {
     "data": {
      "text/plain": [
       "164.36194634870122"
      ]
     },
     "execution_count": 19,
     "metadata": {},
     "output_type": "execute_result"
    }
   ],
   "source": [
    "# Instead of saving the input parameters as variables, we could have\n",
    "# just fed these numbers directly into the function:\n",
    "\n",
    "CompoundInterestCalculator(100,0.05,4,10)"
   ]
  },
  {
   "cell_type": "code",
   "execution_count": 20,
   "metadata": {
    "collapsed": false
   },
   "outputs": [
    {
     "name": "stderr",
     "output_type": "stream",
     "text": [
      "WARNING: Method definition CompoundInterestCalculator(Any, Any, Any, Any) in module Main at In[18]:3 overwritten at In[20]:18.\n"
     ]
    },
    {
     "data": {
      "text/plain": [
       "164.36194634870122"
      ]
     },
     "execution_count": 20,
     "metadata": {},
     "output_type": "execute_result"
    }
   ],
   "source": [
    "# The second way of creating functions is with the \"function\" command.\n",
    "# This is more useful for hiding repeated sections of code,\n",
    "# or if it takes several steps to calculate the final value\n",
    "\n",
    "# In this way, you define a function like this:\n",
    "\n",
    "#|   function NameOfFunction(parameter1,parameter2,...)\n",
    "#|      ....\n",
    "#|      code goes here\n",
    "#|      ....\n",
    "#|      return finalValue\n",
    "#|   end\n",
    "\n",
    "# Here's the same example from before, with a bunch of stuff that cancels out:\n",
    "\n",
    "function CompoundInterestCalculator(presentValue,interestRate,compoundFrequency,time)\n",
    "   \n",
    "    loss=0.5 # We can define variables inside a function!\n",
    "    \n",
    "    futureValue=presentValue*(1+interestRate/compoundFrequency)^(compoundFrequency*time)\n",
    "    \n",
    "    futureValue*=loss # Lose half of your money due to poor investment choices\n",
    "    \n",
    "    futureValue+=futureValue #But get it all back again with sheer dumb luck\n",
    "    \n",
    "    futureValue=1*futureValue # These lines really don't do anything other than show\n",
    "                              # how you can make multi-line functions that are more\n",
    "                              #complicated \n",
    "    \n",
    "    return futureValue #This is the output of the function\n",
    "    \n",
    "end\n",
    "\n",
    "\n",
    "\n",
    "\n",
    "CompoundInterestCalculator(100,0.05,4,10)"
   ]
  },
  {
   "cell_type": "markdown",
   "metadata": {},
   "source": [
    "Here's a list of useful standard functions in Julia. This is by no means exhaustive, so feel free to ask if there's anything you want to know how to do"
   ]
  },
  {
   "cell_type": "code",
   "execution_count": 24,
   "metadata": {
    "collapsed": false
   },
   "outputs": [
    {
     "name": "stdout",
     "output_type": "stream",
     "text": [
      "Hi\n",
      "There!\n"
     ]
    },
    {
     "data": {
      "text/plain": [
       "-1"
      ]
     },
     "execution_count": 24,
     "metadata": {},
     "output_type": "execute_result"
    }
   ],
   "source": [
    "rand() # Generates a random number between 0 and 1\n",
    "\n",
    "sqrt(100) # Calculates the square root of a number\n",
    "\n",
    "\n",
    "#####################\n",
    "\n",
    "println(\"Hi\") # Write something to output, and move to a new line\n",
    "print(\"There\") # Write something to output, and stay on the current line\n",
    "println(\"!\")   # This is useful for displaying multiple calculations done in one cell\n",
    "\n",
    "####################\n",
    "\n",
    "# Trigonometric Functions\n",
    "\n",
    "sin(pi/4) # Sine\n",
    "cos(pi/4) # Cosine\n",
    "tan(pi/4) # Tangent\n",
    "\n",
    "asin(1) # Arcsine (inverse sine)\n",
    "acos(1) # Arccos (inverse cosine)\n",
    "atan(1) # Arctan (inverse tangent)\n",
    "\n",
    "#######################\n",
    "\n",
    "exp(1) # e^x, or the exponential function, with base e (the natural number)\n",
    "exp10(1) # 10^x\n",
    "exp2(1)  # 2^x\n",
    "\n",
    "log(3) # natural logarithm (log base e)\n",
    "log10(100) # log base 10\n",
    "log2(8) # log base 2\n",
    "\n",
    "log(5,25) # log base 5 (first input)\n",
    "\n",
    "\n",
    "######################\n",
    "\n",
    "max(1,2) # Largest number out of a group of numbers\n",
    "min(-1,0) # Smallest number out of a group of numbers\n"
   ]
  },
  {
   "cell_type": "markdown",
   "metadata": {},
   "source": [
    "# PyPlot\n",
    "\n",
    "PyPlot is a useful package for plotting functions. To use it, you provide a series of x and y coordinates, and it will draw lines between them. The trick is to make these points close enough to one another that it looks nice and smooth.\n",
    "\n",
    "To do this, we just do what we've been doing before, and calculate a bunch of numbers at once"
   ]
  },
  {
   "cell_type": "code",
   "execution_count": 52,
   "metadata": {
    "collapsed": true
   },
   "outputs": [],
   "source": [
    "using PyPlot"
   ]
  },
  {
   "cell_type": "code",
   "execution_count": 77,
   "metadata": {
    "collapsed": false
   },
   "outputs": [
    {
     "data": {
      "image/png": "[encoded data removed]",
      "text/plain": [
       "PyPlot.Figure(PyObject <matplotlib.figure.Figure object at 0x7fdc776a11d0>)"
      ]
     },
     "metadata": {},
     "output_type": "display_data"
    },
    {
     "name": "stderr",
     "output_type": "stream",
     "text": [
      "WARNING: Method definition f(Any) in module Main at In[57]:1 overwritten at In[77]:1.\n"
     ]
    }
   ],
   "source": [
    "f(x)=x.^3\n",
    "\n",
    "x=-2:2\n",
    "y=f(x)\n",
    "\n",
    "plot(x,y) # Plot x and y points, as defined above\n",
    "grid() # Places a grid on the plot"
   ]
  },
  {
   "cell_type": "code",
   "execution_count": 80,
   "metadata": {
    "collapsed": false
   },
   "outputs": [
    {
     "data": {
      "image/png": "[encoded data removed]",
      "text/plain": [
       "PyPlot.Figure(PyObject <matplotlib.figure.Figure object at 0x7fdc7707ca10>)"
      ]
     },
     "metadata": {},
     "output_type": "display_data"
    }
   ],
   "source": [
    "# This time, using a small step to remove the jaggedness\n",
    "\n",
    "x=-2:0.1:2\n",
    "y=f(x)\n",
    "\n",
    "plot(x,y) # Plot x and y points, as defined above\n",
    "grid() # Places a grid on the plot"
   ]
  },
  {
   "cell_type": "markdown",
   "metadata": {
    "collapsed": true
   },
   "source": [
    "We can also plot multiple things at once:"
   ]
  },
  {
   "cell_type": "code",
   "execution_count": 55,
   "metadata": {
    "collapsed": false
   },
   "outputs": [
    {
     "data": {
      "image/png": "[encoded data removed]",
      "text/plain": [
       "PyPlot.Figure(PyObject <matplotlib.figure.Figure object at 0x7fdc7812f990>)"
      ]
     },
     "metadata": {},
     "output_type": "display_data"
    },
    {
     "name": "stderr",
     "output_type": "stream",
     "text": [
      "WARNING: Method definition f(Any) in module Main at In[54]:1 overwritten at In[55]:1.\n",
      "WARNING: Method definition g(Any) in module Main at In[54]:2 overwritten at In[55]:2.\n"
     ]
    },
    {
     "data": {
      "text/plain": [
       "PyObject <matplotlib.legend.Legend object at 0x7fdc7835bd50>"
      ]
     },
     "execution_count": 55,
     "metadata": {},
     "output_type": "execute_result"
    }
   ],
   "source": [
    "f(x)=x.^3\n",
    "g(x)=x.^2\n",
    "\n",
    "x=-2:0.1:2\n",
    "\n",
    "plot(x,f(x),label=\"square\") # label gives a name to the plot\n",
    "plot(x,g(x),label=\"cube\")\n",
    "grid()\n",
    "legend() # legend() tells Julia to give a legend"
   ]
  },
  {
   "cell_type": "markdown",
   "metadata": {
    "collapsed": true
   },
   "source": [
    "We can also zoom in on particular regions using the xlim() and ylim() commands:"
   ]
  },
  {
   "cell_type": "code",
   "execution_count": 57,
   "metadata": {
    "collapsed": false
   },
   "outputs": [
    {
     "data": {
      "image/png": "[encoded data removed]",
      "text/plain": [
       "PyPlot.Figure(PyObject <matplotlib.figure.Figure object at 0x7fdc7805a750>)"
      ]
     },
     "metadata": {},
     "output_type": "display_data"
    },
    {
     "name": "stderr",
     "output_type": "stream",
     "text": [
      "WARNING: Method definition f(Any) in module Main at In[56]:1 overwritten at In[57]:1.\n",
      "WARNING: Method definition g(Any) in module Main at In[56]:2 overwritten at In[57]:2.\n"
     ]
    },
    {
     "data": {
      "text/plain": [
       "(-1,1)"
      ]
     },
     "execution_count": 57,
     "metadata": {},
     "output_type": "execute_result"
    }
   ],
   "source": [
    "f(x)=x.^3\n",
    "g(x)=x.^2\n",
    "\n",
    "x=-2:0.1:2\n",
    "\n",
    "plot(x,f(x),label=\"square\") # label gives a name to the plot\n",
    "plot(x,g(x),label=\"cube\")\n",
    "grid()\n",
    "legend()\n",
    "xlim(-1,1)\n",
    "ylim(-1,1)"
   ]
  },
  {
   "cell_type": "markdown",
   "metadata": {
    "collapsed": true
   },
   "source": [
    "=============================\n",
    "\n",
    "## Exercise\n",
    "\n",
    "Plot y=x^a for different values of a, where 0 < x < 2 and a>0. How does the choice of a change the plot?\n",
    "\n",
    "============================="
   ]
  },
  {
   "cell_type": "code",
   "execution_count": 76,
   "metadata": {
    "collapsed": false
   },
   "outputs": [
    {
     "data": {
      "image/png": "[encoded data removed]",
      "text/plain": [
       "PyPlot.Figure(PyObject <matplotlib.figure.Figure object at 0x7fdc77640750>)"
      ]
     },
     "metadata": {},
     "output_type": "display_data"
    },
    {
     "name": "stderr",
     "output_type": "stream",
     "text": [
      "WARNING: Method definition f(Any, Any) in module Main at In[75]:5 overwritten at In[76]:5.\n"
     ]
    },
    {
     "data": {
      "text/plain": [
       "PyObject <matplotlib.legend.Legend object at 0x7fdc773e8e90>"
      ]
     },
     "execution_count": 76,
     "metadata": {},
     "output_type": "execute_result"
    }
   ],
   "source": [
    "#\n",
    "# Your answer here\n",
    "############################\n",
    "\n"
   ]
  }
 ],
 "metadata": {
  "kernelspec": {
   "display_name": "Julia 0.5.2",
   "language": "julia",
   "name": "julia-0.5"
  },
  "language_info": {
   "file_extension": ".jl",
   "mimetype": "application/julia",
   "name": "julia",
   "version": "0.5.2"
  }
 },
 "nbformat": 4,
 "nbformat_minor": 2
}
