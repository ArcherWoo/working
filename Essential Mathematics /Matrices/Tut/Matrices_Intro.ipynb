{
 "cells": [
  {
   "cell_type": "markdown",
   "metadata": {},
   "source": [
    "# Matrices and Arrays in Julia\n",
    "\n",
    "Julia uses Arrays to describe matrices. This document will take you through the basics:"
   ]
  },
  {
   "cell_type": "code",
   "execution_count": 30,
   "metadata": {},
   "outputs": [
    {
     "data": {
      "text/plain": [
       "3-element Array{Int64,1}:\n",
       " 3\n",
       " 4\n",
       " 5"
      ]
     },
     "execution_count": 30,
     "metadata": {},
     "output_type": "execute_result"
    }
   ],
   "source": [
    "# Arrays are essentially lists of numbers. In Julia, we use square brackets\n",
    "# to express them:\n",
    "\n",
    "x=[3,4,5] #An array containing the numbers 3,4, and 5.\n",
    "          # This creates a 1-dimensional array\n",
    "x"
   ]
  },
  {
   "cell_type": "code",
   "execution_count": 2,
   "metadata": {},
   "outputs": [
    {
     "data": {
      "text/plain": [
       "4"
      ]
     },
     "execution_count": 2,
     "metadata": {},
     "output_type": "execute_result"
    }
   ],
   "source": [
    "# We can grab the value of any number in array based on it's position.\n",
    "# For example, the number 4 is the second element in the array:\n",
    "\n",
    "x[2]"
   ]
  },
  {
   "cell_type": "code",
   "execution_count": 11,
   "metadata": {},
   "outputs": [
    {
     "data": {
      "text/plain": [
       "3x3 Array{Int64,2}:\n",
       " 1  2  3\n",
       " 4  5  6\n",
       " 7  8  9"
      ]
     },
     "execution_count": 11,
     "metadata": {},
     "output_type": "execute_result"
    }
   ],
   "source": [
    "# We can create 2-dimensional arrays as well!\n",
    "\n",
    "# We separate rows with ; and put spaces between each\n",
    "# element instead of commas\n",
    "\n",
    "x=[1 2 3 ; 4 5 6; 7 8 9]"
   ]
  },
  {
   "cell_type": "code",
   "execution_count": null,
   "metadata": {},
   "outputs": [],
   "source": [
    "# We can get the value of an element in this array like so:\n",
    "\n",
    "x[2,1] # row 2, column 1"
   ]
  },
  {
   "cell_type": "code",
   "execution_count": 7,
   "metadata": {},
   "outputs": [
    {
     "data": {
      "text/plain": [
       "1x3 Array{Int64,2}:\n",
       " 4  5  6"
      ]
     },
     "execution_count": 7,
     "metadata": {},
     "output_type": "execute_result"
    }
   ],
   "source": [
    "# We can call multiple rows or columns at the same time\n",
    "# by using an array to select the values inside the array:\n",
    "\n",
    "x[ 2 , [1,2,3] ] # Row 2, columns 1,2 and 3"
   ]
  },
  {
   "cell_type": "code",
   "execution_count": null,
   "metadata": {},
   "outputs": [],
   "source": [
    "# A shorthand way of doing this is to put a \":\" character where you want\n",
    "# to call all elements\n",
    "\n",
    "x[ 2 , : ] # Row 2, all columns"
   ]
  },
  {
   "cell_type": "code",
   "execution_count": null,
   "metadata": {},
   "outputs": [],
   "source": [
    "# We can also call a selection of elements using ranges (We'll touch on ranges later on)\n",
    "\n",
    "x[2,1:2] # Row 2, columns 1-2"
   ]
  },
  {
   "cell_type": "code",
   "execution_count": 12,
   "metadata": {},
   "outputs": [
    {
     "data": {
      "text/plain": [
       "2x2 Array{Int64,2}:\n",
       " 1  3\n",
       " 7  9"
      ]
     },
     "execution_count": 12,
     "metadata": {},
     "output_type": "execute_result"
    }
   ],
   "source": [
    "# We can do this for both rows and columns at once.\n",
    "# This will return a 2x2 matrix containing the\n",
    "# corner elements of the array from above:\n",
    "\n",
    "x[[1,3],[1,3]]"
   ]
  },
  {
   "cell_type": "code",
   "execution_count": 16,
   "metadata": {},
   "outputs": [
    {
     "data": {
      "text/plain": [
       "3x3 Array{Int64,2}:\n",
       " 10  2  3\n",
       "  4  5  6\n",
       "  7  8  9"
      ]
     },
     "execution_count": 16,
     "metadata": {},
     "output_type": "execute_result"
    }
   ],
   "source": [
    "# We can modify one or more elements in an array by simply\n",
    "# referring to the elements we want to change.\n",
    "\n",
    "x=[1 2 3 ; 4 5 6; 7 8 9]\n",
    "\n",
    "# Let's change the top left to be 10 instead of 1\n",
    "x[1,1] = 10\n",
    "x"
   ]
  },
  {
   "cell_type": "code",
   "execution_count": 20,
   "metadata": {},
   "outputs": [
    {
     "data": {
      "text/plain": [
       "3x3 Array{Int64,2}:\n",
       " 5  7  9\n",
       " 4  5  6\n",
       " 7  8  9"
      ]
     },
     "execution_count": 20,
     "metadata": {},
     "output_type": "execute_result"
    }
   ],
   "source": [
    "# We can alslo modify more than one thing at a time.\n",
    "# This allows us to perform elementary row operations,\n",
    "# which is useful for all sorts of things such as Gaussian elimination\n",
    "\n",
    "x=[1 2 3 ; 4 5 6; 7 8 9]\n",
    "\n",
    "# Let row 1 equal row 1 plus row 2\n",
    "\n",
    "x[1,:] = x[1,:] + x[2,:]\n",
    "\n",
    "x"
   ]
  },
  {
   "cell_type": "code",
   "execution_count": 27,
   "metadata": {},
   "outputs": [
    {
     "data": {
      "text/plain": [
       "3x3 Array{Int64,2}:\n",
       "  2  2  3\n",
       "  8  5  6\n",
       " 14  8  9"
      ]
     },
     "execution_count": 27,
     "metadata": {},
     "output_type": "execute_result"
    }
   ],
   "source": [
    "# This could also be used for columns, but this is a little less useful.\n",
    "# Just be aware that you can do this, and make sure you put the\n",
    "# index in the correct way (rows, then columns)\n",
    "\n",
    "x=[1 2 3 ; 4 5 6; 7 8 9]\n",
    "\n",
    "# Let column 1 equal column 1 plus column 2\n",
    "x[:,1]=x[:,1]+x[:,1]\n",
    "\n",
    "x\n"
   ]
  },
  {
   "cell_type": "markdown",
   "metadata": {},
   "source": [
    "## Row vectors and column vectors\n",
    "\n",
    "When dealing with matrices, it's important to know if a vector is a row vector or a column vector.\n",
    "\n",
    "A row vector has a single row, and as many columns as you want. A row vector is basically a 1xN matrix\n",
    "\n",
    "A column vector is the opposite: It has a single column and as many rows as you want. A column vector is basically a Nx1 matrix.\n",
    "\n"
   ]
  },
  {
   "cell_type": "code",
   "execution_count": 28,
   "metadata": {},
   "outputs": [
    {
     "data": {
      "text/plain": [
       "3-element Array{Int64,1}:\n",
       "  2\n",
       "  8\n",
       " 14"
      ]
     },
     "execution_count": 28,
     "metadata": {},
     "output_type": "execute_result"
    }
   ],
   "source": [
    "# This is a column vector\n",
    "\n",
    "x[:,1]"
   ]
  },
  {
   "cell_type": "code",
   "execution_count": 33,
   "metadata": {},
   "outputs": [
    {
     "data": {
      "text/plain": [
       "3-element Array{Int64,1}:\n",
       " 1\n",
       " 2\n",
       " 3"
      ]
     },
     "execution_count": 33,
     "metadata": {},
     "output_type": "execute_result"
    }
   ],
   "source": [
    "# To write a column vector, place semicolons or commas between each element.\n",
    "# A 1-dimensional array is a column vector in Julia.\n",
    "\n",
    "[1,2,3]"
   ]
  },
  {
   "cell_type": "code",
   "execution_count": 32,
   "metadata": {},
   "outputs": [
    {
     "data": {
      "text/plain": [
       "3-element Array{Int64,1}:\n",
       " 1\n",
       " 2\n",
       " 3"
      ]
     },
     "execution_count": 32,
     "metadata": {},
     "output_type": "execute_result"
    }
   ],
   "source": [
    "[1;2;3]"
   ]
  },
  {
   "cell_type": "code",
   "execution_count": 34,
   "metadata": {},
   "outputs": [
    {
     "data": {
      "text/plain": [
       "1x1 Array{Int64,2}:\n",
       " 3"
      ]
     },
     "execution_count": 34,
     "metadata": {},
     "output_type": "execute_result"
    }
   ],
   "source": [
    "# This is a row vector\n",
    "\n",
    "# Notice how it says Array{Int64,2} instead of Array{Int64,1}?\n",
    "# Julia considers row vectors to be 2 dimensional.\n",
    "\n",
    "x[1,:]"
   ]
  },
  {
   "cell_type": "code",
   "execution_count": 35,
   "metadata": {},
   "outputs": [
    {
     "data": {
      "text/plain": [
       "1x3 Array{Int64,2}:\n",
       " 1  2  3"
      ]
     },
     "execution_count": 35,
     "metadata": {},
     "output_type": "execute_result"
    }
   ],
   "source": [
    "# To write a row vector, place spaces between each\n",
    "# element rather than commas or semicolons\n",
    "[1 2 3]"
   ]
  },
  {
   "cell_type": "markdown",
   "metadata": {},
   "source": [
    "# Operations on arrays\n",
    "\n",
    "The fuss about row vectors versus column vectors is important because there are rules around doing arithmetic on arrays and vectors. These rules will be covered in class, this guide will just show you how to do them in Julia\n",
    "\n",
    "Doing math with arrays will change depending on if you're doing something with\n",
    "two arrays, or if you're doing something with an array and a regular number\n",
    "(regular numbers are called \"scalars\")"
   ]
  },
  {
   "cell_type": "markdown",
   "metadata": {},
   "source": [
    "## Operations involving scalars\n",
    "\n",
    "If you try to do arithmetic involving an array and a scalar, Julia interprets this as \"apply this operation individually to every element of the array\". Here's some examples"
   ]
  },
  {
   "cell_type": "code",
   "execution_count": 1,
   "metadata": {},
   "outputs": [
    {
     "data": {
      "text/plain": [
       "3-element Array{Int64,1}:\n",
       " 2\n",
       " 3\n",
       " 4"
      ]
     },
     "execution_count": 1,
     "metadata": {},
     "output_type": "execute_result"
    }
   ],
   "source": [
    "# This will add 1 to the numbers 1 2 and 3\n",
    "\n",
    "[1,2,3]+1 # Will return [2,3,4]"
   ]
  },
  {
   "cell_type": "code",
   "execution_count": 22,
   "metadata": {},
   "outputs": [
    {
     "data": {
      "text/plain": [
       "1x3 Array{Int64,2}:\n",
       " 0  1  2"
      ]
     },
     "execution_count": 22,
     "metadata": {},
     "output_type": "execute_result"
    }
   ],
   "source": [
    "# We can also perform subraction\n",
    "[1 2 3]-1 # Will return [0 1 2]"
   ]
  },
  {
   "cell_type": "code",
   "execution_count": 23,
   "metadata": {},
   "outputs": [
    {
     "data": {
      "text/plain": [
       "3-element Array{Int64,1}:\n",
       " 2\n",
       " 4\n",
       " 6"
      ]
     },
     "execution_count": 23,
     "metadata": {},
     "output_type": "execute_result"
    }
   ],
   "source": [
    "# Multiplication\n",
    "2*[1,2,3] # Will return [2,4,6]"
   ]
  },
  {
   "cell_type": "code",
   "execution_count": 24,
   "metadata": {},
   "outputs": [
    {
     "data": {
      "text/plain": [
       "3-element Array{Float64,1}:\n",
       " 0.5\n",
       " 1.0\n",
       " 1.5"
      ]
     },
     "execution_count": 24,
     "metadata": {},
     "output_type": "execute_result"
    }
   ],
   "source": [
    "# Division\n",
    "[1,2,3]/2 # Will return [0.5,1,1.5]"
   ]
  },
  {
   "cell_type": "markdown",
   "metadata": {},
   "source": [
    "However! This doesn't work for the ^ operator. Either you'll get a scary looking error message, or you'll get a result that's different to what you were expecting"
   ]
  },
  {
   "cell_type": "code",
   "execution_count": 27,
   "metadata": {},
   "outputs": [
    {
     "ename": "LoadError",
     "evalue": "LoadError: MethodError: `*` has no method matching *(::Array{Int64,1}, ::Array{Int64,1})\nClosest candidates are:\n  *(::Any, ::Any, !Matched::Any, !Matched::Any...)\n  *{T<:Union{Complex{Float32},Complex{Float64},Float32,Float64},S}(!Matched::Union{DenseArray{T<:Union{Complex{Float32},Complex{Float64},Float32,Float64},2},SubArray{T<:Union{Complex{Float32},Complex{Float64},Float32,Float64},2,A<:DenseArray{T,N},I<:Tuple{Vararg{Union{Colon,Int64,Range{Int64}}}},LD}}, ::Union{DenseArray{S,1},SubArray{S,1,A<:DenseArray{T,N},I<:Tuple{Vararg{Union{Colon,Int64,Range{Int64}}}},LD}})\n  *{TA,TB}(!Matched::Base.LinAlg.AbstractTriangular{TA,S<:AbstractArray{T,2}}, ::Union{DenseArray{TB,1},DenseArray{TB,2},SubArray{TB,1,A<:DenseArray{T,N},I<:Tuple{Vararg{Union{Colon,Int64,Range{Int64}}}},LD},SubArray{TB,2,A<:DenseArray{T,N},I<:Tuple{Vararg{Union{Colon,Int64,Range{Int64}}}},LD}})\n  ...\nwhile loading In[27], in expression starting on line 1",
     "output_type": "error",
     "traceback": [
      "LoadError: MethodError: `*` has no method matching *(::Array{Int64,1}, ::Array{Int64,1})\nClosest candidates are:\n  *(::Any, ::Any, !Matched::Any, !Matched::Any...)\n  *{T<:Union{Complex{Float32},Complex{Float64},Float32,Float64},S}(!Matched::Union{DenseArray{T<:Union{Complex{Float32},Complex{Float64},Float32,Float64},2},SubArray{T<:Union{Complex{Float32},Complex{Float64},Float32,Float64},2,A<:DenseArray{T,N},I<:Tuple{Vararg{Union{Colon,Int64,Range{Int64}}}},LD}}, ::Union{DenseArray{S,1},SubArray{S,1,A<:DenseArray{T,N},I<:Tuple{Vararg{Union{Colon,Int64,Range{Int64}}}},LD}})\n  *{TA,TB}(!Matched::Base.LinAlg.AbstractTriangular{TA,S<:AbstractArray{T,2}}, ::Union{DenseArray{TB,1},DenseArray{TB,2},SubArray{TB,1,A<:DenseArray{T,N},I<:Tuple{Vararg{Union{Colon,Int64,Range{Int64}}}},LD},SubArray{TB,2,A<:DenseArray{T,N},I<:Tuple{Vararg{Union{Colon,Int64,Range{Int64}}}},LD}})\n  ...\nwhile loading In[27], in expression starting on line 1",
      "",
      " in power_by_squaring at intfuncs.jl:80",
      " in ^ at intfuncs.jl:108"
     ]
    }
   ],
   "source": [
    "[1,2,3]^2 # Will produce a scary looking error message"
   ]
  },
  {
   "cell_type": "code",
   "execution_count": 29,
   "metadata": {},
   "outputs": [
    {
     "data": {
      "text/plain": [
       "2x2 Array{Int64,2}:\n",
       "  7  10\n",
       " 15  22"
      ]
     },
     "execution_count": 29,
     "metadata": {},
     "output_type": "execute_result"
    }
   ],
   "source": [
    "[1 2; 3 4]^2 # Doesn't equal [1 4; 9 16]"
   ]
  },
  {
   "cell_type": "code",
   "execution_count": 31,
   "metadata": {},
   "outputs": [
    {
     "ename": "LoadError",
     "evalue": "LoadError: MethodError: `^` has no method matching ^(::Int64, ::Array{Int64,1})\nClosest candidates are:\n  ^(::Integer, !Matched::Bool)\n  ^(::Number, !Matched::Rational{T<:Integer})\n  ^(::Integer, !Matched::BigInt)\n  ...\nwhile loading In[31], in expression starting on line 1",
     "output_type": "error",
     "traceback": [
      "LoadError: MethodError: `^` has no method matching ^(::Int64, ::Array{Int64,1})\nClosest candidates are:\n  ^(::Integer, !Matched::Bool)\n  ^(::Number, !Matched::Rational{T<:Integer})\n  ^(::Integer, !Matched::BigInt)\n  ...\nwhile loading In[31], in expression starting on line 1",
      ""
     ]
    }
   ],
   "source": [
    "2^[1,2,3] # Produces scary looking error message"
   ]
  },
  {
   "cell_type": "markdown",
   "metadata": {},
   "source": [
    "The reason for this is because what we're really doing here is multiplying two arrays together:\n",
    "\n",
    "[1 2; 3 4]^2 = [1 2; 3 4] * [1 2; 3 4]\n",
    "\n",
    "Julia attempts to multiply the arrays together using standard matrix multiplication\n",
    "\n",
    "We want to perform ELEMENT-WISE squaring (i.e. perform the ^2 operation to\n",
    "each separate element, rather than to the array/matrix as a whole). The way to do this\n",
    "is by adding a \".\" in front of the \"^\" character:"
   ]
  },
  {
   "cell_type": "code",
   "execution_count": 32,
   "metadata": {},
   "outputs": [
    {
     "data": {
      "text/plain": [
       "3-element Array{Int64,1}:\n",
       " 1\n",
       " 4\n",
       " 9"
      ]
     },
     "execution_count": 32,
     "metadata": {},
     "output_type": "execute_result"
    }
   ],
   "source": [
    "[1,2,3].^2 # Returns [1,4,9]"
   ]
  },
  {
   "cell_type": "code",
   "execution_count": 33,
   "metadata": {},
   "outputs": [
    {
     "data": {
      "text/plain": [
       "2x2 Array{Int64,2}:\n",
       " 1   4\n",
       " 9  16"
      ]
     },
     "execution_count": 33,
     "metadata": {},
     "output_type": "execute_result"
    }
   ],
   "source": [
    "[1 2; 3 4].^2 # Returns [1 4; 9 16]"
   ]
  },
  {
   "cell_type": "code",
   "execution_count": 35,
   "metadata": {},
   "outputs": [
    {
     "data": {
      "text/plain": [
       "1x3 Array{Int64,2}:\n",
       " 2  4  8"
      ]
     },
     "execution_count": 35,
     "metadata": {},
     "output_type": "execute_result"
    }
   ],
   "source": [
    "2.^[1 2 3] # Returns [2 4 8]"
   ]
  },
  {
   "cell_type": "markdown",
   "metadata": {},
   "source": [
    "There are fundamentally two types of operations involving arrays: Element-wise operations, and matrix operations."
   ]
  },
  {
   "cell_type": "markdown",
   "metadata": {},
   "source": [
    "## Element-wise operations\n",
    "\n",
    "This is performed by adding a \".\" in front of whatever operation we want to perform. We just used this to use \"^\" with an array and scalar.\n",
    "\n",
    "We can use the \".\" to perform element-wise division, multiplication and exponentiation/raising to a power.\n",
    "\n",
    "However, the two arrays must have *exactly* the same number of dimensions, otherwise you might get something a bit different to what you were expecting.\n",
    "\n",
    "### ** This is using arrays as a tool for calculating lots of numbers, not working with matrices. DO NOT use the \".\" character if you're working with matrices.**"
   ]
  },
  {
   "cell_type": "code",
   "execution_count": 38,
   "metadata": {},
   "outputs": [
    {
     "data": {
      "text/plain": [
       "1x3 Array{Int64,2}:\n",
       " 2  6  12"
      ]
     },
     "execution_count": 38,
     "metadata": {},
     "output_type": "execute_result"
    }
   ],
   "source": [
    "# Multiplication\n",
    "\n",
    "[1 2 3] .* [ 2 3 4] # Returns [2 6 12]"
   ]
  },
  {
   "cell_type": "code",
   "execution_count": 48,
   "metadata": {},
   "outputs": [
    {
     "data": {
      "text/plain": [
       "3-element Array{Float64,1}:\n",
       " 2.0\n",
       " 2.0\n",
       " 3.0"
      ]
     },
     "execution_count": 48,
     "metadata": {},
     "output_type": "execute_result"
    }
   ],
   "source": [
    "# Division\n",
    "\n",
    "[4; 10; 9] ./ [2; 5; 3] # Returns [2; 2; 3]"
   ]
  },
  {
   "cell_type": "code",
   "execution_count": 53,
   "metadata": {},
   "outputs": [
    {
     "data": {
      "text/plain": [
       "2x2 Array{Int64,2}:\n",
       " 9  4\n",
       " 1  1"
      ]
     },
     "execution_count": 53,
     "metadata": {},
     "output_type": "execute_result"
    }
   ],
   "source": [
    "# Powers/Exponentiation\n",
    "\n",
    "[3 4 ; 5 0] .^ [2 1 ; 0 0] # Returns [9, 4; 1, 1]\n"
   ]
  },
  {
   "cell_type": "code",
   "execution_count": 42,
   "metadata": {},
   "outputs": [
    {
     "ename": "LoadError",
     "evalue": "LoadError: DimensionMismatch(\"arrays could not be broadcast to a common size\")\nwhile loading In[42], in expression starting on line 1",
     "output_type": "error",
     "traceback": [
      "LoadError: DimensionMismatch(\"arrays could not be broadcast to a common size\")\nwhile loading In[42], in expression starting on line 1",
      "",
      " in broadcast_shape at broadcast.jl:41",
      " in .* at sparse/sparsematrix.jl:1026"
     ]
    }
   ],
   "source": [
    "[1 2 3] .* [ 2 3] # Scary looking error message"
   ]
  },
  {
   "cell_type": "code",
   "execution_count": 45,
   "metadata": {},
   "outputs": [
    {
     "data": {
      "text/plain": [
       "3x3 Array{Int64,2}:\n",
       " 2  4   6\n",
       " 3  6   9\n",
       " 4  8  12"
      ]
     },
     "execution_count": 45,
     "metadata": {},
     "output_type": "execute_result"
    }
   ],
   "source": [
    "# An example of what happens when you have different dimenstions\n",
    "\n",
    "[1 2 3] .* [2,3,4]"
   ]
  },
  {
   "cell_type": "code",
   "execution_count": 46,
   "metadata": {},
   "outputs": [
    {
     "data": {
      "text/plain": [
       "3x3 Array{Int64,2}:\n",
       " 2  3   4\n",
       " 4  6   8\n",
       " 6  9  12"
      ]
     },
     "execution_count": 46,
     "metadata": {},
     "output_type": "execute_result"
    }
   ],
   "source": [
    "[1,2,3] .* [2 3 4]"
   ]
  },
  {
   "cell_type": "markdown",
   "metadata": {},
   "source": [
    "## Matrix operations\n",
    "\n",
    "### This section covers how to perform matrix calculations in Julia"
   ]
  },
  {
   "cell_type": "code",
   "execution_count": 29,
   "metadata": {},
   "outputs": [
    {
     "data": {
      "text/plain": [
       "3-element Array{Int64,1}:\n",
       " 3\n",
       " 5\n",
       " 7"
      ]
     },
     "execution_count": 29,
     "metadata": {},
     "output_type": "execute_result"
    }
   ],
   "source": [
    "# Addition and Subtraction don't need the \".\", because they are always performed\n",
    "# in an element-wise manner:\n",
    "\n",
    "[1,2,3]+[2,3,4] # Should return [3,5,7]"
   ]
  },
  {
   "cell_type": "code",
   "execution_count": null,
   "metadata": {},
   "outputs": [],
   "source": [
    "[1,2,3]-[2,3,4] # Should return [-1,-1,-1]"
   ]
  },
  {
   "cell_type": "code",
   "execution_count": 53,
   "metadata": {},
   "outputs": [
    {
     "data": {
      "text/plain": [
       "3x3 Array{Int64,2}:\n",
       " 17   39  12\n",
       " 17   51  21\n",
       " 47  113  40"
      ]
     },
     "execution_count": 53,
     "metadata": {},
     "output_type": "execute_result"
    }
   ],
   "source": [
    "# To multiply two matrices together, you simply use the * symbol without the\n",
    "# element-wise tag\n",
    "\n",
    "A= [1 4 3 ; 4 1 6 ; 7 8 9]\n",
    "\n",
    "B= [2 4 2 ; 3 5 1 ; 1 5 2]\n",
    "\n",
    "X=A*B"
   ]
  },
  {
   "cell_type": "markdown",
   "metadata": {},
   "source": [
    "### Matrix division\n",
    "\n",
    "Dividing matrices is a little different for a few reasons:\n",
    "\n",
    "First, it can only be done if the determinant of a matrix is zero (this is essentially equivalent to not dividing by zero).\n",
    "\n",
    "Secondly, tthere's two different types of matrix division: Left division and right division. In essence, this is because A*B is not always equal to B*A when dealing with matrices.\n",
    "\n",
    "You can read more about this at the following link, but basically, the following two lines of code are equivalent:\n",
    "\n",
    "A\\B = inv(A)*B\n",
    "\n",
    "A/B = A*inv(B)\n",
    "\n",
    "Right division is equivalent to multiplying by an inverse on the right, and left division is equivalent to multiplying by an inverse on the left: https://en.wikipedia.org/wiki/Division_(mathematics)#Left_and_right_division\n",
    "\n",
    "We perform right division with the \"/\" character, and left division with the \"\\\" character. We defined X=A\\*B before, let's use right division to recover A, and left division to recover B."
   ]
  },
  {
   "cell_type": "code",
   "execution_count": 57,
   "metadata": {},
   "outputs": [
    {
     "data": {
      "text/plain": [
       "3x3 Array{Float64,2}:\n",
       " 1.0  4.0  3.0\n",
       " 4.0  1.0  6.0\n",
       " 7.0  8.0  9.0"
      ]
     },
     "execution_count": 57,
     "metadata": {},
     "output_type": "execute_result"
    }
   ],
   "source": [
    "X/B # Right division, should return A"
   ]
  },
  {
   "cell_type": "code",
   "execution_count": 58,
   "metadata": {},
   "outputs": [
    {
     "data": {
      "text/plain": [
       "3x3 Array{Float64,2}:\n",
       " 2.0  4.0  2.0\n",
       " 3.0  5.0  1.0\n",
       " 1.0  5.0  2.0"
      ]
     },
     "execution_count": 58,
     "metadata": {},
     "output_type": "execute_result"
    }
   ],
   "source": [
    "A\\X # Left division: A\\X=inv(A)*X=inv(A)*(A*B)=B. Thus, A\\X should return B"
   ]
  },
  {
   "cell_type": "markdown",
   "metadata": {},
   "source": [
    "# Useful functions for Matrices"
   ]
  },
  {
   "cell_type": "code",
   "execution_count": 6,
   "metadata": {},
   "outputs": [
    {
     "data": {
      "text/plain": [
       "3x3 Array{Float64,2}:\n",
       " -0.295611  -0.838509    0.604876\n",
       " -0.433604   0.0443517  -0.779633\n",
       " -0.851235   0.543079    0.162163"
      ]
     },
     "execution_count": 6,
     "metadata": {},
     "output_type": "execute_result"
    }
   ],
   "source": [
    "A= [1 4 3 ; 4 1 6 ; 7 8 9]\n",
    "\n",
    "det(A) # Determinant of a matrix\n",
    "inv(A) # Inverse of a matrix\n",
    "A^-1 # Will also calculate the inverse of A\n",
    "\n",
    "# We'll cover these in later weeks.\n",
    "eigvals(A) # Eigenvalues of a matrix\n",
    "eigvecs(A) # Eigenvectors of a matrix. Each eigenvector is a single column.\n",
    "           # The first column corresponds to the first eigenvalue returned by\n",
    "           # eigvals(), and so on"
   ]
  }
 ],
 "metadata": {
  "kernelspec": {
   "display_name": "Julia 0.6.2",
   "language": "julia",
   "name": "julia-0.6"
  },
  "language_info": {
   "file_extension": ".jl",
   "mimetype": "application/julia",
   "name": "julia",
   "version": "0.6.2"
  }
 },
 "nbformat": 4,
 "nbformat_minor": 1
}
